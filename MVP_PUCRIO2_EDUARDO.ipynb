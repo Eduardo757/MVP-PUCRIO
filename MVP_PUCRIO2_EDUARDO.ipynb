{
  "nbformat": 4,
  "nbformat_minor": 0,
  "metadata": {
    "colab": {
      "provenance": [],
      "toc_visible": true,
      "authorship_tag": "ABX9TyN7M5kGq6KTw97M9P66b5CN",
      "include_colab_link": true
    },
    "kernelspec": {
      "name": "python3",
      "display_name": "Python 3"
    },
    "language_info": {
      "name": "python"
    }
  },
  "cells": [
    {
      "cell_type": "markdown",
      "metadata": {
        "id": "view-in-github",
        "colab_type": "text"
      },
      "source": [
        "<a href=\"https://colab.research.google.com/github/Eduardo757/MVP-PUCRIO/blob/main/MVP_PUCRIO2_EDUARDO.ipynb\" target=\"_parent\"><img src=\"https://colab.research.google.com/assets/colab-badge.svg\" alt=\"Open In Colab\"/></a>"
      ]
    },
    {
      "cell_type": "markdown",
      "source": [
        "<FONT SIZE = '10'>\n",
        " MVP Machine Learning & Analytics </FONT>"
      ],
      "metadata": {
        "id": "R20Wmir-iham"
      }
    },
    {
      "cell_type": "markdown",
      "source": [
        "Eduardo Vasconcelos Sampaio <br>\n",
        "\n",
        "*PUC-RIO*\n"
      ],
      "metadata": {
        "id": "faICD9Aoi90k"
      }
    },
    {
      "cell_type": "markdown",
      "source": [
        "# Definição do Problema\n"
      ],
      "metadata": {
        "id": "Gyn70b4MjJFE"
      }
    },
    {
      "cell_type": "markdown",
      "source": [
        "O dataset utilizado neste MVP foi o Dataset :\n",
        "https://www.kaggle.com/datasets/amirhosseinmirzaie/nba-players-stats2023-season\n",
        "<br>\n",
        "\n",
        "Este trabalho tem como objetivo aproveitar os métodos de aprendizado de máquina aprendido durante o curso para analisar os dados históricos dos pontos marcados por jogadores da NBA. Utilizaremos um conjunto de dados compreensivo que inclui as estatísticas de desempenho dos jogadores ao longo da temporada de 2023. O foco será desenvolver um modelo preditivo que possa estimar o desempenho futuro de jogadores com base em sua perfomance. Por eu ser um grande fã de NBA ;) , aplicarei os conceitos e algoritmos estudados no curso, afim de treinar o modelo e no fim comparando os resultados obtidos.\n",
        "\n",
        "\n",
        "\n"
      ],
      "metadata": {
        "id": "veZQkO5AjdCB"
      }
    },
    {
      "cell_type": "markdown",
      "source": [
        " Este estudo não só contribui para o avanço da análise esportiva usando aprendizado de máquina, mas também ajudará a otimizar as decisões tomadas por gestores e treinadores no contexto competitivo da NBA."
      ],
      "metadata": {
        "id": "dGfUp1vTrdeh"
      }
    },
    {
      "cell_type": "markdown",
      "source": [
        "# Definição do Dataset\n"
      ],
      "metadata": {
        "id": "pOO3YzPCqnKk"
      }
    },
    {
      "cell_type": "markdown",
      "source": [
        "\n",
        "Estimar a pontuação de cada jogador é crucial na análise esportiva do basquete.\n",
        "Serve como uma métrica de desempenho crucial que permite que treinadores, analistas e torcedores avaliem a capacidade de pontuação de um jogador e a contribuição ofensiva geral para o time. Compreender o potencial de pontuação dos jogadores ajuda na tomada de decisões estratégicas durante os jogos, na seleção de jogadores e na caça de talentos.🏀"
      ],
      "metadata": {
        "id": "H6O92nsbrELr"
      }
    },
    {
      "cell_type": "markdown",
      "source": [
        "<table>\n",
        "\t<tbody>\n",
        "\t\t<tr>\n",
        "\t\t\t<td><b>Descrição</b></td>\n",
        "\t\t\t<td><b>Coluna</b></td>\n",
        "\t\t</tr>\n",
        "\t\t<tr>\n",
        "\t\t\t<td>Nome do jogador de basquete</td>\n",
        "\t\t\t<td>PName</td>\n",
        "\t\t</tr>\n",
        "\t\t<tr>\n",
        "\t\t\t<td>Posição do jogador, incluindo 'N/A' </td>\n",
        "\t\t\t<td>Pos</td>\n",
        "\t\t</tr>\n",
        "    <tr>\n",
        "\t\t\t<td>Time pelo qual atuou na temporada </td>\n",
        "\t\t\t<td>Team</td>\n",
        "\t\t</tr>\n",
        "\t\t<tr>\n",
        "\t\t\t<td>Idade do jogador</td>\n",
        "\t\t\t<td>Age</td>\n",
        "\t\t</tr>\n",
        "\t\t<tr>\n",
        "\t\t\t<td>Numero de jogos que o jogador atuou na temporada</td>\n",
        "\t\t\t<td>GP</td>\n",
        "\t\t</tr>\n",
        "\t\t<tr>\n",
        "\t\t\t<td>Numero de jogos que o jogador venceu na temporada</td>\n",
        "\t\t\t<td>W</td>\n",
        "\t\t</tr>\n",
        "\t\t<tr>\n",
        "\t\t\t<td>Numero de jogos que o jogador perdeu na temporada</td>\n",
        "\t\t\t<td>L</td>\n",
        "\t\t</tr>\n",
        "\t\t<tr>\n",
        "\t\t\t<td>O total de minutos que o jogador jogou na temporada</td>\n",
        "\t\t\t<td>Min</td>\n",
        "\t\t</tr>\n",
        "\t\t<tr>\n",
        "\t\t\t<td>Total de pontos feitos na temporada</td>\n",
        "\t\t\t<td>PTS</td>\n",
        "\t\t</tr>\n",
        "\t\t<tr>\n",
        "\t\t\t<td>Numero total de cestas feita pelo jogador</td>\n",
        "\t\t\t<td>FGM</td>\n",
        "\t\t</tr>\n",
        "\t\t<tr>\n",
        "\t\t\t<td>Numero total de cestas tentadas pelo jogador</td>\n",
        "\t\t\t<td>FGA</td>\n",
        "\t\t</tr>\n",
        "\t\t<tr>\n",
        "\t\t\t<td>Porcentagem de cestas acertadas pelo jogador</td>\n",
        "\t\t\t<td>FG%</td>\n",
        "\t\t</tr>\n",
        "\t\t<tr>\n",
        "\t\t\t<td>Numero total de cestas de 3 feitas pelo jogador</td>\n",
        "\t\t\t<td>3PM</td>\n",
        "\t\t</tr>\n",
        "\t\t<tr>\n",
        "\t\t\t<td>Numero total de cestas de 3 tentadas pelo jogador</td>\n",
        "\t\t\t<td>3PA</td>\n",
        "\t\t</tr>\n",
        "\t\t<tr>\n",
        "\t\t\t<td>Porcentagem de cestas de 3 acertadas pelo jogador</td>\n",
        "\t\t\t<td>3P%</td>\n",
        "\t\t</tr>\n",
        "\t\t<tr>\n",
        "\t\t\t<td>Numero total de cestas de lance livre acertadas </td>\n",
        "\t\t\t<td>FTM</td>\n",
        "\t\t</tr>\n",
        "\t\t<tr>\n",
        "\t\t\t<td>Numero total de cestas de lance livre tentadas</td>\n",
        "\t\t\t<td>FTA</td>\n",
        "\t\t</tr>\n",
        "\t\t<tr>\n",
        "\t\t\t<td>Porcentagem total de cestas de livre bem sucedidas</td>\n",
        "\t\t\t<td>FT%</td>\n",
        "\t\t</tr>\n",
        "\t\t<tr>\n",
        "\t\t\t<td>Numero total de rebotes ofensivos pelo jogador</td>\n",
        "\t\t\t<td>OREB</td>\n",
        "\t\t</tr>\n",
        "\t\t<tr>\n",
        "\t\t\t<td>Numero total de rebotes defensivos pelo jogador</td>\n",
        "\t\t\t<td>DREB</td>\n",
        "\t\t</tr>\n",
        "\t\t<tr>\n",
        "\t\t\t<td>Numero total de rebotes(ofensivo + defensivo) do jogador</td>\n",
        "\t\t\t<td>REB</td>\n",
        "\t\t</tr>\n",
        "\t\t<tr>\n",
        "\t\t\t<td>Numero total de Assistencia do jogador</td>\n",
        "\t\t\t<td>AST</td>\n",
        "\t\t</tr>\n",
        "\t\t<tr>\n",
        "\t\t\t<td>Numero total de perdas de bola do jogador</td>\n",
        "\t\t\t<td>TOV</td>\n",
        "\t\t</tr>\n",
        "\t\t<tr>\n",
        "\t\t\t<td>Numero total de roubadas de bola </td>\n",
        "\t\t\t<td>STL</td>\n",
        "\t\t</tr>\n",
        "\t\t<tr>\n",
        "\t\t\t<td>Numero total de bloqueio feitos pelo jogador</td>\n",
        "\t\t\t<td>BLK</td>\n",
        "\t\t</tr>\n",
        "\t\t<tr>\n",
        "\t\t\t<td>Numero total de faltas do jogador</td>\n",
        "\t\t\t<td>PF</td>\n",
        "\t\t</tr>\n",
        "\t\t<tr>\n",
        "\t\t\t<td>Numero total de pontos pelo jogador</td>\n",
        "\t\t\t<td>FP</td>\n",
        "\t\t</tr>\n",
        "\t\t<tr>\n",
        "\t\t\t<td>Numero total de duplo digitos feitos pelo jogador</td>\n",
        "\t\t\t<td>DD2</td>\n",
        "\t\t</tr>\n",
        "\t\t<tr>\n",
        "\t\t\t<td>Numero total de triplo digitos feito pelo jogador </td>\n",
        "\t\t\t<td>TD3</td>\n",
        "\t\t</tr>\n",
        "\t\t<tr>\n",
        "\t\t\t<td>A diferença total entre a pontuação da equipe do jogador e a pontuação do adversário enquanto o jogador está no jogo </td>\n",
        "\t\t\t<td>+/-</td>\n",
        "\t\t</tr>\n",
        "\t</tbody>\n",
        "</table>"
      ],
      "metadata": {
        "id": "7BMJ5XJu2b01"
      }
    },
    {
      "cell_type": "markdown",
      "source": [],
      "metadata": {
        "id": "KOQWbz6BE4iV"
      }
    },
    {
      "cell_type": "markdown",
      "source": [
        "# Importando as bibliotecas"
      ],
      "metadata": {
        "id": "SyR56S-bE5c2"
      }
    },
    {
      "cell_type": "code",
      "source": [
        "import pandas as pd\n",
        "import numpy as np\n",
        "import matplotlib.pyplot as plt\n",
        "import seaborn as sns\n",
        "import plotly.express as px\n",
        "import plotly.graph_objects as go\n",
        "from plotly.subplots import make_subplots\n",
        "\n",
        "from sklearn.model_selection import train_test_split , GridSearchCV, cross_val_score\n",
        "from sklearn.metrics import classification_report, confusion_matrix, f1_score, r2_score\n",
        "\n",
        "from sklearn.linear_model import LinearRegression\n",
        "from sklearn.neighbors import KNeighborsRegressor\n",
        "from sklearn.tree import DecisionTreeRegressor\n",
        "from sklearn.ensemble import RandomForestRegressor"
      ],
      "metadata": {
        "id": "ZvUVJGGZE-Nk"
      },
      "execution_count": 2,
      "outputs": []
    },
    {
      "cell_type": "code",
      "source": [
        "import warnings\n",
        "warnings.filterwarnings(\"ignore\")"
      ],
      "metadata": {
        "id": "AGCNRAuxFUYh"
      },
      "execution_count": 4,
      "outputs": []
    },
    {
      "cell_type": "code",
      "source": [
        "\n",
        "\n",
        "from plotly.offline import init_notebook_mode, iplot\n",
        "init_notebook_mode(connected=True)\n",
        "\n"
      ],
      "metadata": {
        "colab": {
          "base_uri": "https://localhost:8080/",
          "height": 17
        },
        "id": "AvnSZag-FVQR",
        "outputId": "8b0dc61b-9e46-4ee0-ac69-77f6f5f2abaa"
      },
      "execution_count": 3,
      "outputs": [
        {
          "output_type": "display_data",
          "data": {
            "text/html": [
              "        <script type=\"text/javascript\">\n",
              "        window.PlotlyConfig = {MathJaxConfig: 'local'};\n",
              "        if (window.MathJax && window.MathJax.Hub && window.MathJax.Hub.Config) {window.MathJax.Hub.Config({SVG: {font: \"STIX-Web\"}});}\n",
              "        if (typeof require !== 'undefined') {\n",
              "        require.undef(\"plotly\");\n",
              "        requirejs.config({\n",
              "            paths: {\n",
              "                'plotly': ['https://cdn.plot.ly/plotly-2.24.1.min']\n",
              "            }\n",
              "        });\n",
              "        require(['plotly'], function(Plotly) {\n",
              "            window._Plotly = Plotly;\n",
              "        });\n",
              "        }\n",
              "        </script>\n",
              "        "
            ]
          },
          "metadata": {}
        }
      ]
    },
    {
      "cell_type": "markdown",
      "source": [
        "# Lendo Dataset\n"
      ],
      "metadata": {
        "id": "sVYq3T42FZQj"
      }
    },
    {
      "cell_type": "code",
      "source": [
        "ev = pd.read_csv('https://raw.githubusercontent.com/Eduardo757/MVPPUCRIO2/main/2023_nba_player_stats.csv')"
      ],
      "metadata": {
        "id": "FAuygeciFfKa"
      },
      "execution_count": 6,
      "outputs": []
    },
    {
      "cell_type": "markdown",
      "source": [
        "Visualizaremos os 5 primeiros dados do dataset. Nesse caso a nossa tabela será de 5 linhas x 30 colunas"
      ],
      "metadata": {
        "id": "We66Sbr4GdKr"
      }
    },
    {
      "cell_type": "code",
      "source": [
        "\n",
        "ev.head(5)\n"
      ],
      "metadata": {
        "colab": {
          "base_uri": "https://localhost:8080/",
          "height": 236
        },
        "id": "eIv_624WGlPv",
        "outputId": "0be6fa5c-885b-4291-cec6-26535a14686d"
      },
      "execution_count": 7,
      "outputs": [
        {
          "output_type": "execute_result",
          "data": {
            "text/plain": [
              "                     PName POS Team  Age  GP   W   L     Min   PTS  FGM  ...  \\\n",
              "0             Jayson Tatum  SF  BOS   25  74  52  22  2732.2  2225  727  ...   \n",
              "1              Joel Embiid   C  PHI   29  66  43  23  2284.1  2183  728  ...   \n",
              "2              Luka Doncic  PG  DAL   24  66  33  33  2390.5  2138  719  ...   \n",
              "3  Shai Gilgeous-Alexander  PG  OKC   24  68  33  35  2416.0  2135  704  ...   \n",
              "4    Giannis Antetokounmpo  PF  MIL   28  63  47  16  2023.6  1959  707  ...   \n",
              "\n",
              "   REB  AST  TOV  STL  BLK   PF    FP  DD2  TD3  +/-  \n",
              "0  649  342  213   78   51  160  3691   31    1  470  \n",
              "1  670  274  226   66  112  205  3706   39    1  424  \n",
              "2  569  529  236   90   33  166  3747   36   10  128  \n",
              "3  329  371  192  112   65  192  3425    3    0  149  \n",
              "4  742  359  246   52   51  197  3451   46    6  341  \n",
              "\n",
              "[5 rows x 30 columns]"
            ],
            "text/html": [
              "\n",
              "  <div id=\"df-a757afea-eb59-4286-8c59-9794e3144167\" class=\"colab-df-container\">\n",
              "    <div>\n",
              "<style scoped>\n",
              "    .dataframe tbody tr th:only-of-type {\n",
              "        vertical-align: middle;\n",
              "    }\n",
              "\n",
              "    .dataframe tbody tr th {\n",
              "        vertical-align: top;\n",
              "    }\n",
              "\n",
              "    .dataframe thead th {\n",
              "        text-align: right;\n",
              "    }\n",
              "</style>\n",
              "<table border=\"1\" class=\"dataframe\">\n",
              "  <thead>\n",
              "    <tr style=\"text-align: right;\">\n",
              "      <th></th>\n",
              "      <th>PName</th>\n",
              "      <th>POS</th>\n",
              "      <th>Team</th>\n",
              "      <th>Age</th>\n",
              "      <th>GP</th>\n",
              "      <th>W</th>\n",
              "      <th>L</th>\n",
              "      <th>Min</th>\n",
              "      <th>PTS</th>\n",
              "      <th>FGM</th>\n",
              "      <th>...</th>\n",
              "      <th>REB</th>\n",
              "      <th>AST</th>\n",
              "      <th>TOV</th>\n",
              "      <th>STL</th>\n",
              "      <th>BLK</th>\n",
              "      <th>PF</th>\n",
              "      <th>FP</th>\n",
              "      <th>DD2</th>\n",
              "      <th>TD3</th>\n",
              "      <th>+/-</th>\n",
              "    </tr>\n",
              "  </thead>\n",
              "  <tbody>\n",
              "    <tr>\n",
              "      <th>0</th>\n",
              "      <td>Jayson Tatum</td>\n",
              "      <td>SF</td>\n",
              "      <td>BOS</td>\n",
              "      <td>25</td>\n",
              "      <td>74</td>\n",
              "      <td>52</td>\n",
              "      <td>22</td>\n",
              "      <td>2732.2</td>\n",
              "      <td>2225</td>\n",
              "      <td>727</td>\n",
              "      <td>...</td>\n",
              "      <td>649</td>\n",
              "      <td>342</td>\n",
              "      <td>213</td>\n",
              "      <td>78</td>\n",
              "      <td>51</td>\n",
              "      <td>160</td>\n",
              "      <td>3691</td>\n",
              "      <td>31</td>\n",
              "      <td>1</td>\n",
              "      <td>470</td>\n",
              "    </tr>\n",
              "    <tr>\n",
              "      <th>1</th>\n",
              "      <td>Joel Embiid</td>\n",
              "      <td>C</td>\n",
              "      <td>PHI</td>\n",
              "      <td>29</td>\n",
              "      <td>66</td>\n",
              "      <td>43</td>\n",
              "      <td>23</td>\n",
              "      <td>2284.1</td>\n",
              "      <td>2183</td>\n",
              "      <td>728</td>\n",
              "      <td>...</td>\n",
              "      <td>670</td>\n",
              "      <td>274</td>\n",
              "      <td>226</td>\n",
              "      <td>66</td>\n",
              "      <td>112</td>\n",
              "      <td>205</td>\n",
              "      <td>3706</td>\n",
              "      <td>39</td>\n",
              "      <td>1</td>\n",
              "      <td>424</td>\n",
              "    </tr>\n",
              "    <tr>\n",
              "      <th>2</th>\n",
              "      <td>Luka Doncic</td>\n",
              "      <td>PG</td>\n",
              "      <td>DAL</td>\n",
              "      <td>24</td>\n",
              "      <td>66</td>\n",
              "      <td>33</td>\n",
              "      <td>33</td>\n",
              "      <td>2390.5</td>\n",
              "      <td>2138</td>\n",
              "      <td>719</td>\n",
              "      <td>...</td>\n",
              "      <td>569</td>\n",
              "      <td>529</td>\n",
              "      <td>236</td>\n",
              "      <td>90</td>\n",
              "      <td>33</td>\n",
              "      <td>166</td>\n",
              "      <td>3747</td>\n",
              "      <td>36</td>\n",
              "      <td>10</td>\n",
              "      <td>128</td>\n",
              "    </tr>\n",
              "    <tr>\n",
              "      <th>3</th>\n",
              "      <td>Shai Gilgeous-Alexander</td>\n",
              "      <td>PG</td>\n",
              "      <td>OKC</td>\n",
              "      <td>24</td>\n",
              "      <td>68</td>\n",
              "      <td>33</td>\n",
              "      <td>35</td>\n",
              "      <td>2416.0</td>\n",
              "      <td>2135</td>\n",
              "      <td>704</td>\n",
              "      <td>...</td>\n",
              "      <td>329</td>\n",
              "      <td>371</td>\n",
              "      <td>192</td>\n",
              "      <td>112</td>\n",
              "      <td>65</td>\n",
              "      <td>192</td>\n",
              "      <td>3425</td>\n",
              "      <td>3</td>\n",
              "      <td>0</td>\n",
              "      <td>149</td>\n",
              "    </tr>\n",
              "    <tr>\n",
              "      <th>4</th>\n",
              "      <td>Giannis Antetokounmpo</td>\n",
              "      <td>PF</td>\n",
              "      <td>MIL</td>\n",
              "      <td>28</td>\n",
              "      <td>63</td>\n",
              "      <td>47</td>\n",
              "      <td>16</td>\n",
              "      <td>2023.6</td>\n",
              "      <td>1959</td>\n",
              "      <td>707</td>\n",
              "      <td>...</td>\n",
              "      <td>742</td>\n",
              "      <td>359</td>\n",
              "      <td>246</td>\n",
              "      <td>52</td>\n",
              "      <td>51</td>\n",
              "      <td>197</td>\n",
              "      <td>3451</td>\n",
              "      <td>46</td>\n",
              "      <td>6</td>\n",
              "      <td>341</td>\n",
              "    </tr>\n",
              "  </tbody>\n",
              "</table>\n",
              "<p>5 rows × 30 columns</p>\n",
              "</div>\n",
              "    <div class=\"colab-df-buttons\">\n",
              "\n",
              "  <div class=\"colab-df-container\">\n",
              "    <button class=\"colab-df-convert\" onclick=\"convertToInteractive('df-a757afea-eb59-4286-8c59-9794e3144167')\"\n",
              "            title=\"Convert this dataframe to an interactive table.\"\n",
              "            style=\"display:none;\">\n",
              "\n",
              "  <svg xmlns=\"http://www.w3.org/2000/svg\" height=\"24px\" viewBox=\"0 -960 960 960\">\n",
              "    <path d=\"M120-120v-720h720v720H120Zm60-500h600v-160H180v160Zm220 220h160v-160H400v160Zm0 220h160v-160H400v160ZM180-400h160v-160H180v160Zm440 0h160v-160H620v160ZM180-180h160v-160H180v160Zm440 0h160v-160H620v160Z\"/>\n",
              "  </svg>\n",
              "    </button>\n",
              "\n",
              "  <style>\n",
              "    .colab-df-container {\n",
              "      display:flex;\n",
              "      gap: 12px;\n",
              "    }\n",
              "\n",
              "    .colab-df-convert {\n",
              "      background-color: #E8F0FE;\n",
              "      border: none;\n",
              "      border-radius: 50%;\n",
              "      cursor: pointer;\n",
              "      display: none;\n",
              "      fill: #1967D2;\n",
              "      height: 32px;\n",
              "      padding: 0 0 0 0;\n",
              "      width: 32px;\n",
              "    }\n",
              "\n",
              "    .colab-df-convert:hover {\n",
              "      background-color: #E2EBFA;\n",
              "      box-shadow: 0px 1px 2px rgba(60, 64, 67, 0.3), 0px 1px 3px 1px rgba(60, 64, 67, 0.15);\n",
              "      fill: #174EA6;\n",
              "    }\n",
              "\n",
              "    .colab-df-buttons div {\n",
              "      margin-bottom: 4px;\n",
              "    }\n",
              "\n",
              "    [theme=dark] .colab-df-convert {\n",
              "      background-color: #3B4455;\n",
              "      fill: #D2E3FC;\n",
              "    }\n",
              "\n",
              "    [theme=dark] .colab-df-convert:hover {\n",
              "      background-color: #434B5C;\n",
              "      box-shadow: 0px 1px 3px 1px rgba(0, 0, 0, 0.15);\n",
              "      filter: drop-shadow(0px 1px 2px rgba(0, 0, 0, 0.3));\n",
              "      fill: #FFFFFF;\n",
              "    }\n",
              "  </style>\n",
              "\n",
              "    <script>\n",
              "      const buttonEl =\n",
              "        document.querySelector('#df-a757afea-eb59-4286-8c59-9794e3144167 button.colab-df-convert');\n",
              "      buttonEl.style.display =\n",
              "        google.colab.kernel.accessAllowed ? 'block' : 'none';\n",
              "\n",
              "      async function convertToInteractive(key) {\n",
              "        const element = document.querySelector('#df-a757afea-eb59-4286-8c59-9794e3144167');\n",
              "        const dataTable =\n",
              "          await google.colab.kernel.invokeFunction('convertToInteractive',\n",
              "                                                    [key], {});\n",
              "        if (!dataTable) return;\n",
              "\n",
              "        const docLinkHtml = 'Like what you see? Visit the ' +\n",
              "          '<a target=\"_blank\" href=https://colab.research.google.com/notebooks/data_table.ipynb>data table notebook</a>'\n",
              "          + ' to learn more about interactive tables.';\n",
              "        element.innerHTML = '';\n",
              "        dataTable['output_type'] = 'display_data';\n",
              "        await google.colab.output.renderOutput(dataTable, element);\n",
              "        const docLink = document.createElement('div');\n",
              "        docLink.innerHTML = docLinkHtml;\n",
              "        element.appendChild(docLink);\n",
              "      }\n",
              "    </script>\n",
              "  </div>\n",
              "\n",
              "\n",
              "<div id=\"df-9009f445-6aeb-4254-bc48-441e7ee69e42\">\n",
              "  <button class=\"colab-df-quickchart\" onclick=\"quickchart('df-9009f445-6aeb-4254-bc48-441e7ee69e42')\"\n",
              "            title=\"Suggest charts\"\n",
              "            style=\"display:none;\">\n",
              "\n",
              "<svg xmlns=\"http://www.w3.org/2000/svg\" height=\"24px\"viewBox=\"0 0 24 24\"\n",
              "     width=\"24px\">\n",
              "    <g>\n",
              "        <path d=\"M19 3H5c-1.1 0-2 .9-2 2v14c0 1.1.9 2 2 2h14c1.1 0 2-.9 2-2V5c0-1.1-.9-2-2-2zM9 17H7v-7h2v7zm4 0h-2V7h2v10zm4 0h-2v-4h2v4z\"/>\n",
              "    </g>\n",
              "</svg>\n",
              "  </button>\n",
              "\n",
              "<style>\n",
              "  .colab-df-quickchart {\n",
              "      --bg-color: #E8F0FE;\n",
              "      --fill-color: #1967D2;\n",
              "      --hover-bg-color: #E2EBFA;\n",
              "      --hover-fill-color: #174EA6;\n",
              "      --disabled-fill-color: #AAA;\n",
              "      --disabled-bg-color: #DDD;\n",
              "  }\n",
              "\n",
              "  [theme=dark] .colab-df-quickchart {\n",
              "      --bg-color: #3B4455;\n",
              "      --fill-color: #D2E3FC;\n",
              "      --hover-bg-color: #434B5C;\n",
              "      --hover-fill-color: #FFFFFF;\n",
              "      --disabled-bg-color: #3B4455;\n",
              "      --disabled-fill-color: #666;\n",
              "  }\n",
              "\n",
              "  .colab-df-quickchart {\n",
              "    background-color: var(--bg-color);\n",
              "    border: none;\n",
              "    border-radius: 50%;\n",
              "    cursor: pointer;\n",
              "    display: none;\n",
              "    fill: var(--fill-color);\n",
              "    height: 32px;\n",
              "    padding: 0;\n",
              "    width: 32px;\n",
              "  }\n",
              "\n",
              "  .colab-df-quickchart:hover {\n",
              "    background-color: var(--hover-bg-color);\n",
              "    box-shadow: 0 1px 2px rgba(60, 64, 67, 0.3), 0 1px 3px 1px rgba(60, 64, 67, 0.15);\n",
              "    fill: var(--button-hover-fill-color);\n",
              "  }\n",
              "\n",
              "  .colab-df-quickchart-complete:disabled,\n",
              "  .colab-df-quickchart-complete:disabled:hover {\n",
              "    background-color: var(--disabled-bg-color);\n",
              "    fill: var(--disabled-fill-color);\n",
              "    box-shadow: none;\n",
              "  }\n",
              "\n",
              "  .colab-df-spinner {\n",
              "    border: 2px solid var(--fill-color);\n",
              "    border-color: transparent;\n",
              "    border-bottom-color: var(--fill-color);\n",
              "    animation:\n",
              "      spin 1s steps(1) infinite;\n",
              "  }\n",
              "\n",
              "  @keyframes spin {\n",
              "    0% {\n",
              "      border-color: transparent;\n",
              "      border-bottom-color: var(--fill-color);\n",
              "      border-left-color: var(--fill-color);\n",
              "    }\n",
              "    20% {\n",
              "      border-color: transparent;\n",
              "      border-left-color: var(--fill-color);\n",
              "      border-top-color: var(--fill-color);\n",
              "    }\n",
              "    30% {\n",
              "      border-color: transparent;\n",
              "      border-left-color: var(--fill-color);\n",
              "      border-top-color: var(--fill-color);\n",
              "      border-right-color: var(--fill-color);\n",
              "    }\n",
              "    40% {\n",
              "      border-color: transparent;\n",
              "      border-right-color: var(--fill-color);\n",
              "      border-top-color: var(--fill-color);\n",
              "    }\n",
              "    60% {\n",
              "      border-color: transparent;\n",
              "      border-right-color: var(--fill-color);\n",
              "    }\n",
              "    80% {\n",
              "      border-color: transparent;\n",
              "      border-right-color: var(--fill-color);\n",
              "      border-bottom-color: var(--fill-color);\n",
              "    }\n",
              "    90% {\n",
              "      border-color: transparent;\n",
              "      border-bottom-color: var(--fill-color);\n",
              "    }\n",
              "  }\n",
              "</style>\n",
              "\n",
              "  <script>\n",
              "    async function quickchart(key) {\n",
              "      const quickchartButtonEl =\n",
              "        document.querySelector('#' + key + ' button');\n",
              "      quickchartButtonEl.disabled = true;  // To prevent multiple clicks.\n",
              "      quickchartButtonEl.classList.add('colab-df-spinner');\n",
              "      try {\n",
              "        const charts = await google.colab.kernel.invokeFunction(\n",
              "            'suggestCharts', [key], {});\n",
              "      } catch (error) {\n",
              "        console.error('Error during call to suggestCharts:', error);\n",
              "      }\n",
              "      quickchartButtonEl.classList.remove('colab-df-spinner');\n",
              "      quickchartButtonEl.classList.add('colab-df-quickchart-complete');\n",
              "    }\n",
              "    (() => {\n",
              "      let quickchartButtonEl =\n",
              "        document.querySelector('#df-9009f445-6aeb-4254-bc48-441e7ee69e42 button');\n",
              "      quickchartButtonEl.style.display =\n",
              "        google.colab.kernel.accessAllowed ? 'block' : 'none';\n",
              "    })();\n",
              "  </script>\n",
              "</div>\n",
              "\n",
              "    </div>\n",
              "  </div>\n"
            ],
            "application/vnd.google.colaboratory.intrinsic+json": {
              "type": "dataframe",
              "variable_name": "ev"
            }
          },
          "metadata": {},
          "execution_count": 7
        }
      ]
    },
    {
      "cell_type": "markdown",
      "source": [
        "Agora imprimiremos o tamanho de linha do dataset"
      ],
      "metadata": {
        "id": "7pb8Ff6PHJlm"
      }
    },
    {
      "cell_type": "code",
      "source": [
        "lin, col = ev.shape\n",
        "print(\"Este dataset possui \",lin,\" linhas e\",col,\" colunhas.\")"
      ],
      "metadata": {
        "colab": {
          "base_uri": "https://localhost:8080/"
        },
        "id": "r3cde78GHbYn",
        "outputId": "40934129-bc51-440d-c737-6490702c43c4"
      },
      "execution_count": 8,
      "outputs": [
        {
          "output_type": "stream",
          "name": "stdout",
          "text": [
            "Este dataset possui  539  linhas e 30  colunhas.\n"
          ]
        }
      ]
    },
    {
      "cell_type": "markdown",
      "source": [
        "Conferimos se possui dados duplicados:"
      ],
      "metadata": {
        "id": "Hr49a90VHg-6"
      }
    },
    {
      "cell_type": "code",
      "source": [
        "\n",
        "print(\"Numero de dados duplicados : \",ev.duplicated().sum())"
      ],
      "metadata": {
        "colab": {
          "base_uri": "https://localhost:8080/"
        },
        "id": "5ivyebaUHjPj",
        "outputId": "09b63065-d6df-4689-8013-8052b2378a8b"
      },
      "execution_count": 9,
      "outputs": [
        {
          "output_type": "stream",
          "name": "stdout",
          "text": [
            "Numero de dados duplicados :  0\n"
          ]
        }
      ]
    },
    {
      "cell_type": "markdown",
      "source": [
        "A seguir veremos mais algumas informações relevantes do dataset como tipos de campos e memoria:"
      ],
      "metadata": {
        "id": "2egf2vNyIEVI"
      }
    },
    {
      "cell_type": "code",
      "source": [
        "\n",
        "ev.info()"
      ],
      "metadata": {
        "colab": {
          "base_uri": "https://localhost:8080/"
        },
        "id": "3Df8_lBUH6fb",
        "outputId": "5b89036d-ca5b-46db-e330-5d2e50b5fd11"
      },
      "execution_count": 10,
      "outputs": [
        {
          "output_type": "stream",
          "name": "stdout",
          "text": [
            "<class 'pandas.core.frame.DataFrame'>\n",
            "RangeIndex: 539 entries, 0 to 538\n",
            "Data columns (total 30 columns):\n",
            " #   Column  Non-Null Count  Dtype  \n",
            "---  ------  --------------  -----  \n",
            " 0   PName   539 non-null    object \n",
            " 1   POS     534 non-null    object \n",
            " 2   Team    539 non-null    object \n",
            " 3   Age     539 non-null    int64  \n",
            " 4   GP      539 non-null    int64  \n",
            " 5   W       539 non-null    int64  \n",
            " 6   L       539 non-null    int64  \n",
            " 7   Min     539 non-null    float64\n",
            " 8   PTS     539 non-null    int64  \n",
            " 9   FGM     539 non-null    int64  \n",
            " 10  FGA     539 non-null    int64  \n",
            " 11  FG%     539 non-null    float64\n",
            " 12  3PM     539 non-null    int64  \n",
            " 13  3PA     539 non-null    int64  \n",
            " 14  3P%     539 non-null    float64\n",
            " 15  FTM     539 non-null    int64  \n",
            " 16  FTA     539 non-null    int64  \n",
            " 17  FT%     539 non-null    float64\n",
            " 18  OREB    539 non-null    int64  \n",
            " 19  DREB    539 non-null    int64  \n",
            " 20  REB     539 non-null    int64  \n",
            " 21  AST     539 non-null    int64  \n",
            " 22  TOV     539 non-null    int64  \n",
            " 23  STL     539 non-null    int64  \n",
            " 24  BLK     539 non-null    int64  \n",
            " 25  PF      539 non-null    int64  \n",
            " 26  FP      539 non-null    int64  \n",
            " 27  DD2     539 non-null    int64  \n",
            " 28  TD3     539 non-null    int64  \n",
            " 29  +/-     539 non-null    int64  \n",
            "dtypes: float64(4), int64(23), object(3)\n",
            "memory usage: 126.5+ KB\n"
          ]
        }
      ]
    },
    {
      "cell_type": "markdown",
      "source": [
        "# Visualizando Dados"
      ],
      "metadata": {
        "id": "2iIpxQ2xIXtx"
      }
    },
    {
      "cell_type": "markdown",
      "source": [
        "A seguir mostraremos alguns dados relevantes para a modelagem"
      ],
      "metadata": {
        "id": "4Ecjq9k2JAqG"
      }
    },
    {
      "cell_type": "markdown",
      "source": [
        "No dataset existe uma coluna chamada POS(Position) que representa a posição de cada jogador. No entanto, algumas linhas da coluna POS possuem valores ausentes (N/A), o objetivo deste codigo abaixo, seria preencher eles com a posição 'SG' (shooting guard) para todos os jogadores com posições desconhecidas"
      ],
      "metadata": {
        "id": "yTIuV6dVJuvX"
      }
    },
    {
      "cell_type": "code",
      "source": [
        "ev['POS'].fillna('SG', inplace=True)"
      ],
      "metadata": {
        "id": "a-5lcCdNJ-Sk"
      },
      "execution_count": 13,
      "outputs": []
    },
    {
      "cell_type": "code",
      "source": [
        "px.histogram(ev, x='POS', color_discrete_sequence=px.colors.qualitative.Vivid,\n",
        "            title='Quantidade de Jogadores por posição',template='plotly_dark')"
      ],
      "metadata": {
        "colab": {
          "base_uri": "https://localhost:8080/",
          "height": 542
        },
        "id": "XE9z3CfoKYvE",
        "outputId": "ddf472c6-5271-4d63-e993-a7c0b5eac6e2"
      },
      "execution_count": 18,
      "outputs": [
        {
          "output_type": "display_data",
          "data": {
            "application/vnd.plotly.v1+json": {
              "data": [
                {
                  "alignmentgroup": "True",
                  "bingroup": "x",
                  "hovertemplate": "POS=%{x}<br>count=%{y}<extra></extra>",
                  "legendgroup": "",
                  "marker": {
                    "color": "rgb(229, 134, 6)",
                    "pattern": {
                      "shape": ""
                    }
                  },
                  "name": "",
                  "offsetgroup": "",
                  "orientation": "v",
                  "showlegend": false,
                  "x": [
                    "SF",
                    "C",
                    "PG",
                    "PG",
                    "PF",
                    "SG",
                    "PF",
                    "SG",
                    "PG",
                    "SG",
                    "PG",
                    "PG",
                    "SF",
                    "SG",
                    "PF",
                    "PF",
                    "C",
                    "SG",
                    "SG",
                    "SF",
                    "PG",
                    "PG",
                    "PG",
                    "PG",
                    "SF",
                    "SG",
                    "C",
                    "SG",
                    "PF",
                    "SG",
                    "C",
                    "PG",
                    "SF",
                    "SG",
                    "SF",
                    "PF",
                    "C",
                    "PF",
                    "SG",
                    "SF",
                    "PG",
                    "PF",
                    "SF",
                    "PG",
                    "SG",
                    "SG",
                    "F",
                    "SG",
                    "SG",
                    "SG",
                    "PG",
                    "SF",
                    "PG",
                    "PF",
                    "SF",
                    "PG",
                    "PG",
                    "SG",
                    "SG",
                    "C",
                    "SF",
                    "SF",
                    "PG",
                    "SG",
                    "SG",
                    "PG",
                    "C",
                    "SF",
                    "PF",
                    "SG",
                    "PG",
                    "PG",
                    "SG",
                    "SG",
                    "PF",
                    "SG",
                    "SG",
                    "SF",
                    "C",
                    "F",
                    "C",
                    "SF",
                    "PF",
                    "C",
                    "PF",
                    "SF",
                    "SF",
                    "F",
                    "SF",
                    "SG",
                    "F",
                    "SF",
                    "SG",
                    "G",
                    "SF",
                    "PG",
                    "G",
                    "PF",
                    "PG",
                    "F",
                    "SF",
                    "SG",
                    "C",
                    "C",
                    "PF",
                    "C",
                    "PF",
                    "SF",
                    "SG",
                    "SG",
                    "C",
                    "PG",
                    "C",
                    "C",
                    "SG",
                    "PF",
                    "PG",
                    "PG",
                    "SG",
                    "PF",
                    "PG",
                    "SG",
                    "PG",
                    "SF",
                    "PG",
                    "C",
                    "SG",
                    "PG",
                    "PF",
                    "SG",
                    "PG",
                    "PG",
                    "C",
                    "SG",
                    "C",
                    "F",
                    "SG",
                    "PF",
                    "PF",
                    "SG",
                    "SG",
                    "SF",
                    "SF",
                    "PF",
                    "SF",
                    "PG",
                    "SG",
                    "PF",
                    "PG",
                    "PF",
                    "C",
                    "SG",
                    "SG",
                    "PG",
                    "SF",
                    "SG",
                    "SF",
                    "PF",
                    "C",
                    "PG",
                    "SG",
                    "SG",
                    "PG",
                    "SF",
                    "C",
                    "SG",
                    "G",
                    "PF",
                    "SF",
                    "PF",
                    "PG",
                    "SF",
                    "SG",
                    "G",
                    "SG",
                    "PG",
                    "SF",
                    "PG",
                    "SF",
                    "SF",
                    "SF",
                    "PF",
                    "PG",
                    "PF",
                    "F",
                    "SF",
                    "SG",
                    "PG",
                    "C",
                    "SF",
                    "PF",
                    "PF",
                    "C",
                    "PG",
                    "F",
                    "C",
                    "SG",
                    "SG",
                    "C",
                    "C",
                    "SF",
                    "C",
                    "F",
                    "C",
                    "SF",
                    "PF",
                    "SF",
                    "SG",
                    "PF",
                    "PF",
                    "PG",
                    "SG",
                    "SG",
                    "SF",
                    "SF",
                    "PG",
                    "C",
                    "SF",
                    "SG",
                    "SG",
                    "G",
                    "PF",
                    "PG",
                    "SF",
                    "PF",
                    "PF",
                    "C",
                    "PF",
                    "SF",
                    "PF",
                    "G",
                    "PG",
                    "PF",
                    "SF",
                    "SG",
                    "PF",
                    "PG",
                    "G",
                    "F",
                    "SG",
                    "PF",
                    "C",
                    "SF",
                    "PG",
                    "C",
                    "SG",
                    "PF",
                    "PF",
                    "C",
                    "SG",
                    "F",
                    "PG",
                    "SF",
                    "G",
                    "F",
                    "SF",
                    "PG",
                    "G",
                    "C",
                    "C",
                    "SF",
                    "SG",
                    "SF",
                    "SF",
                    "C",
                    "PG",
                    "C",
                    "G",
                    "PG",
                    "SG",
                    "SG",
                    "F",
                    "SG",
                    "F",
                    "PG",
                    "SG",
                    "SG",
                    "SG",
                    "PF",
                    "C",
                    "G",
                    "SF",
                    "PF",
                    "SG",
                    "F",
                    "F",
                    "C",
                    "SF",
                    "PF",
                    "C",
                    "SF",
                    "SG",
                    "SF",
                    "SG",
                    "SG",
                    "PG",
                    "SG",
                    "SF",
                    "PG",
                    "SG",
                    "SF",
                    "PF",
                    "PG",
                    "G",
                    "F",
                    "PF",
                    "SF",
                    "SF",
                    "C",
                    "F",
                    "PF",
                    "F",
                    "PG",
                    "SF",
                    "F",
                    "F",
                    "PF",
                    "C",
                    "PF",
                    "F",
                    "C",
                    "C",
                    "SG",
                    "SG",
                    "F",
                    "G",
                    "G",
                    "PG",
                    "PG",
                    "PG",
                    "PF",
                    "PG",
                    "F",
                    "C",
                    "PG",
                    "C",
                    "G",
                    "SG",
                    "PF",
                    "PF",
                    "PG",
                    "SG",
                    "PF",
                    "F",
                    "F",
                    "F",
                    "SF",
                    "PF",
                    "SF",
                    "C",
                    "C",
                    "C",
                    "PF",
                    "PF",
                    "G",
                    "F",
                    "SG",
                    "SG",
                    "C",
                    "G",
                    "G",
                    "C",
                    "C",
                    "SG",
                    "C",
                    "SF",
                    "SG",
                    "F",
                    "PG",
                    "PF",
                    "F",
                    "C",
                    "SG",
                    "SF",
                    "F",
                    "G",
                    "PG",
                    "PF",
                    "PG",
                    "SF",
                    "SF",
                    "C",
                    "G",
                    "PF",
                    "PG",
                    "G",
                    "G",
                    "SG",
                    "PG",
                    "C",
                    "G",
                    "SG",
                    "F",
                    "PG",
                    "PF",
                    "F",
                    "PF",
                    "G",
                    "C",
                    "PF",
                    "PF",
                    "F",
                    "F",
                    "C",
                    "F",
                    "C",
                    "PG",
                    "PG",
                    "C",
                    "F",
                    "PG",
                    "F",
                    "C",
                    "SG",
                    "SF",
                    "C",
                    "F",
                    "G",
                    "SG",
                    "SG",
                    "SG",
                    "PF",
                    "F",
                    "G",
                    "F",
                    "G",
                    "F",
                    "G",
                    "F",
                    "PG",
                    "F",
                    "F",
                    "F",
                    "PG",
                    "F",
                    "F",
                    "G",
                    "G",
                    "PF",
                    "G",
                    "G",
                    "PF",
                    "C",
                    "SF",
                    "SF",
                    "G",
                    "C",
                    "PG",
                    "F",
                    "SF",
                    "G",
                    "F",
                    "G",
                    "G",
                    "SF",
                    "G",
                    "C",
                    "C",
                    "C",
                    "G",
                    "G",
                    "PG",
                    "C",
                    "G",
                    "SG",
                    "C",
                    "G",
                    "SF",
                    "C",
                    "F",
                    "G",
                    "PF",
                    "G",
                    "SG",
                    "PF",
                    "G",
                    "SG",
                    "PF",
                    "SG",
                    "G",
                    "G",
                    "C",
                    "G",
                    "PF",
                    "G",
                    "F",
                    "SG",
                    "G",
                    "G",
                    "SF",
                    "SF",
                    "F",
                    "SG",
                    "C",
                    "F",
                    "F",
                    "G",
                    "F",
                    "F",
                    "F",
                    "F",
                    "G",
                    "G",
                    "G",
                    "C",
                    "SF",
                    "G",
                    "G",
                    "F",
                    "PF",
                    "SF",
                    "SG",
                    "G",
                    "G",
                    "F",
                    "C",
                    "PG",
                    "F",
                    "C",
                    "C",
                    "C",
                    "SG",
                    "G",
                    "F",
                    "G",
                    "G",
                    "G",
                    "G",
                    "G",
                    "F",
                    "G",
                    "F",
                    "F",
                    "G",
                    "SG",
                    "SG",
                    "SG",
                    "SG",
                    "SG"
                  ],
                  "xaxis": "x",
                  "yaxis": "y",
                  "type": "histogram"
                }
              ],
              "layout": {
                "template": {
                  "data": {
                    "barpolar": [
                      {
                        "marker": {
                          "line": {
                            "color": "rgb(17,17,17)",
                            "width": 0.5
                          },
                          "pattern": {
                            "fillmode": "overlay",
                            "size": 10,
                            "solidity": 0.2
                          }
                        },
                        "type": "barpolar"
                      }
                    ],
                    "bar": [
                      {
                        "error_x": {
                          "color": "#f2f5fa"
                        },
                        "error_y": {
                          "color": "#f2f5fa"
                        },
                        "marker": {
                          "line": {
                            "color": "rgb(17,17,17)",
                            "width": 0.5
                          },
                          "pattern": {
                            "fillmode": "overlay",
                            "size": 10,
                            "solidity": 0.2
                          }
                        },
                        "type": "bar"
                      }
                    ],
                    "carpet": [
                      {
                        "aaxis": {
                          "endlinecolor": "#A2B1C6",
                          "gridcolor": "#506784",
                          "linecolor": "#506784",
                          "minorgridcolor": "#506784",
                          "startlinecolor": "#A2B1C6"
                        },
                        "baxis": {
                          "endlinecolor": "#A2B1C6",
                          "gridcolor": "#506784",
                          "linecolor": "#506784",
                          "minorgridcolor": "#506784",
                          "startlinecolor": "#A2B1C6"
                        },
                        "type": "carpet"
                      }
                    ],
                    "choropleth": [
                      {
                        "colorbar": {
                          "outlinewidth": 0,
                          "ticks": ""
                        },
                        "type": "choropleth"
                      }
                    ],
                    "contourcarpet": [
                      {
                        "colorbar": {
                          "outlinewidth": 0,
                          "ticks": ""
                        },
                        "type": "contourcarpet"
                      }
                    ],
                    "contour": [
                      {
                        "colorbar": {
                          "outlinewidth": 0,
                          "ticks": ""
                        },
                        "colorscale": [
                          [
                            0,
                            "#0d0887"
                          ],
                          [
                            0.1111111111111111,
                            "#46039f"
                          ],
                          [
                            0.2222222222222222,
                            "#7201a8"
                          ],
                          [
                            0.3333333333333333,
                            "#9c179e"
                          ],
                          [
                            0.4444444444444444,
                            "#bd3786"
                          ],
                          [
                            0.5555555555555556,
                            "#d8576b"
                          ],
                          [
                            0.6666666666666666,
                            "#ed7953"
                          ],
                          [
                            0.7777777777777778,
                            "#fb9f3a"
                          ],
                          [
                            0.8888888888888888,
                            "#fdca26"
                          ],
                          [
                            1,
                            "#f0f921"
                          ]
                        ],
                        "type": "contour"
                      }
                    ],
                    "heatmapgl": [
                      {
                        "colorbar": {
                          "outlinewidth": 0,
                          "ticks": ""
                        },
                        "colorscale": [
                          [
                            0,
                            "#0d0887"
                          ],
                          [
                            0.1111111111111111,
                            "#46039f"
                          ],
                          [
                            0.2222222222222222,
                            "#7201a8"
                          ],
                          [
                            0.3333333333333333,
                            "#9c179e"
                          ],
                          [
                            0.4444444444444444,
                            "#bd3786"
                          ],
                          [
                            0.5555555555555556,
                            "#d8576b"
                          ],
                          [
                            0.6666666666666666,
                            "#ed7953"
                          ],
                          [
                            0.7777777777777778,
                            "#fb9f3a"
                          ],
                          [
                            0.8888888888888888,
                            "#fdca26"
                          ],
                          [
                            1,
                            "#f0f921"
                          ]
                        ],
                        "type": "heatmapgl"
                      }
                    ],
                    "heatmap": [
                      {
                        "colorbar": {
                          "outlinewidth": 0,
                          "ticks": ""
                        },
                        "colorscale": [
                          [
                            0,
                            "#0d0887"
                          ],
                          [
                            0.1111111111111111,
                            "#46039f"
                          ],
                          [
                            0.2222222222222222,
                            "#7201a8"
                          ],
                          [
                            0.3333333333333333,
                            "#9c179e"
                          ],
                          [
                            0.4444444444444444,
                            "#bd3786"
                          ],
                          [
                            0.5555555555555556,
                            "#d8576b"
                          ],
                          [
                            0.6666666666666666,
                            "#ed7953"
                          ],
                          [
                            0.7777777777777778,
                            "#fb9f3a"
                          ],
                          [
                            0.8888888888888888,
                            "#fdca26"
                          ],
                          [
                            1,
                            "#f0f921"
                          ]
                        ],
                        "type": "heatmap"
                      }
                    ],
                    "histogram2dcontour": [
                      {
                        "colorbar": {
                          "outlinewidth": 0,
                          "ticks": ""
                        },
                        "colorscale": [
                          [
                            0,
                            "#0d0887"
                          ],
                          [
                            0.1111111111111111,
                            "#46039f"
                          ],
                          [
                            0.2222222222222222,
                            "#7201a8"
                          ],
                          [
                            0.3333333333333333,
                            "#9c179e"
                          ],
                          [
                            0.4444444444444444,
                            "#bd3786"
                          ],
                          [
                            0.5555555555555556,
                            "#d8576b"
                          ],
                          [
                            0.6666666666666666,
                            "#ed7953"
                          ],
                          [
                            0.7777777777777778,
                            "#fb9f3a"
                          ],
                          [
                            0.8888888888888888,
                            "#fdca26"
                          ],
                          [
                            1,
                            "#f0f921"
                          ]
                        ],
                        "type": "histogram2dcontour"
                      }
                    ],
                    "histogram2d": [
                      {
                        "colorbar": {
                          "outlinewidth": 0,
                          "ticks": ""
                        },
                        "colorscale": [
                          [
                            0,
                            "#0d0887"
                          ],
                          [
                            0.1111111111111111,
                            "#46039f"
                          ],
                          [
                            0.2222222222222222,
                            "#7201a8"
                          ],
                          [
                            0.3333333333333333,
                            "#9c179e"
                          ],
                          [
                            0.4444444444444444,
                            "#bd3786"
                          ],
                          [
                            0.5555555555555556,
                            "#d8576b"
                          ],
                          [
                            0.6666666666666666,
                            "#ed7953"
                          ],
                          [
                            0.7777777777777778,
                            "#fb9f3a"
                          ],
                          [
                            0.8888888888888888,
                            "#fdca26"
                          ],
                          [
                            1,
                            "#f0f921"
                          ]
                        ],
                        "type": "histogram2d"
                      }
                    ],
                    "histogram": [
                      {
                        "marker": {
                          "pattern": {
                            "fillmode": "overlay",
                            "size": 10,
                            "solidity": 0.2
                          }
                        },
                        "type": "histogram"
                      }
                    ],
                    "mesh3d": [
                      {
                        "colorbar": {
                          "outlinewidth": 0,
                          "ticks": ""
                        },
                        "type": "mesh3d"
                      }
                    ],
                    "parcoords": [
                      {
                        "line": {
                          "colorbar": {
                            "outlinewidth": 0,
                            "ticks": ""
                          }
                        },
                        "type": "parcoords"
                      }
                    ],
                    "pie": [
                      {
                        "automargin": true,
                        "type": "pie"
                      }
                    ],
                    "scatter3d": [
                      {
                        "line": {
                          "colorbar": {
                            "outlinewidth": 0,
                            "ticks": ""
                          }
                        },
                        "marker": {
                          "colorbar": {
                            "outlinewidth": 0,
                            "ticks": ""
                          }
                        },
                        "type": "scatter3d"
                      }
                    ],
                    "scattercarpet": [
                      {
                        "marker": {
                          "colorbar": {
                            "outlinewidth": 0,
                            "ticks": ""
                          }
                        },
                        "type": "scattercarpet"
                      }
                    ],
                    "scattergeo": [
                      {
                        "marker": {
                          "colorbar": {
                            "outlinewidth": 0,
                            "ticks": ""
                          }
                        },
                        "type": "scattergeo"
                      }
                    ],
                    "scattergl": [
                      {
                        "marker": {
                          "line": {
                            "color": "#283442"
                          }
                        },
                        "type": "scattergl"
                      }
                    ],
                    "scattermapbox": [
                      {
                        "marker": {
                          "colorbar": {
                            "outlinewidth": 0,
                            "ticks": ""
                          }
                        },
                        "type": "scattermapbox"
                      }
                    ],
                    "scatterpolargl": [
                      {
                        "marker": {
                          "colorbar": {
                            "outlinewidth": 0,
                            "ticks": ""
                          }
                        },
                        "type": "scatterpolargl"
                      }
                    ],
                    "scatterpolar": [
                      {
                        "marker": {
                          "colorbar": {
                            "outlinewidth": 0,
                            "ticks": ""
                          }
                        },
                        "type": "scatterpolar"
                      }
                    ],
                    "scatter": [
                      {
                        "marker": {
                          "line": {
                            "color": "#283442"
                          }
                        },
                        "type": "scatter"
                      }
                    ],
                    "scatterternary": [
                      {
                        "marker": {
                          "colorbar": {
                            "outlinewidth": 0,
                            "ticks": ""
                          }
                        },
                        "type": "scatterternary"
                      }
                    ],
                    "surface": [
                      {
                        "colorbar": {
                          "outlinewidth": 0,
                          "ticks": ""
                        },
                        "colorscale": [
                          [
                            0,
                            "#0d0887"
                          ],
                          [
                            0.1111111111111111,
                            "#46039f"
                          ],
                          [
                            0.2222222222222222,
                            "#7201a8"
                          ],
                          [
                            0.3333333333333333,
                            "#9c179e"
                          ],
                          [
                            0.4444444444444444,
                            "#bd3786"
                          ],
                          [
                            0.5555555555555556,
                            "#d8576b"
                          ],
                          [
                            0.6666666666666666,
                            "#ed7953"
                          ],
                          [
                            0.7777777777777778,
                            "#fb9f3a"
                          ],
                          [
                            0.8888888888888888,
                            "#fdca26"
                          ],
                          [
                            1,
                            "#f0f921"
                          ]
                        ],
                        "type": "surface"
                      }
                    ],
                    "table": [
                      {
                        "cells": {
                          "fill": {
                            "color": "#506784"
                          },
                          "line": {
                            "color": "rgb(17,17,17)"
                          }
                        },
                        "header": {
                          "fill": {
                            "color": "#2a3f5f"
                          },
                          "line": {
                            "color": "rgb(17,17,17)"
                          }
                        },
                        "type": "table"
                      }
                    ]
                  },
                  "layout": {
                    "annotationdefaults": {
                      "arrowcolor": "#f2f5fa",
                      "arrowhead": 0,
                      "arrowwidth": 1
                    },
                    "autotypenumbers": "strict",
                    "coloraxis": {
                      "colorbar": {
                        "outlinewidth": 0,
                        "ticks": ""
                      }
                    },
                    "colorscale": {
                      "diverging": [
                        [
                          0,
                          "#8e0152"
                        ],
                        [
                          0.1,
                          "#c51b7d"
                        ],
                        [
                          0.2,
                          "#de77ae"
                        ],
                        [
                          0.3,
                          "#f1b6da"
                        ],
                        [
                          0.4,
                          "#fde0ef"
                        ],
                        [
                          0.5,
                          "#f7f7f7"
                        ],
                        [
                          0.6,
                          "#e6f5d0"
                        ],
                        [
                          0.7,
                          "#b8e186"
                        ],
                        [
                          0.8,
                          "#7fbc41"
                        ],
                        [
                          0.9,
                          "#4d9221"
                        ],
                        [
                          1,
                          "#276419"
                        ]
                      ],
                      "sequential": [
                        [
                          0,
                          "#0d0887"
                        ],
                        [
                          0.1111111111111111,
                          "#46039f"
                        ],
                        [
                          0.2222222222222222,
                          "#7201a8"
                        ],
                        [
                          0.3333333333333333,
                          "#9c179e"
                        ],
                        [
                          0.4444444444444444,
                          "#bd3786"
                        ],
                        [
                          0.5555555555555556,
                          "#d8576b"
                        ],
                        [
                          0.6666666666666666,
                          "#ed7953"
                        ],
                        [
                          0.7777777777777778,
                          "#fb9f3a"
                        ],
                        [
                          0.8888888888888888,
                          "#fdca26"
                        ],
                        [
                          1,
                          "#f0f921"
                        ]
                      ],
                      "sequentialminus": [
                        [
                          0,
                          "#0d0887"
                        ],
                        [
                          0.1111111111111111,
                          "#46039f"
                        ],
                        [
                          0.2222222222222222,
                          "#7201a8"
                        ],
                        [
                          0.3333333333333333,
                          "#9c179e"
                        ],
                        [
                          0.4444444444444444,
                          "#bd3786"
                        ],
                        [
                          0.5555555555555556,
                          "#d8576b"
                        ],
                        [
                          0.6666666666666666,
                          "#ed7953"
                        ],
                        [
                          0.7777777777777778,
                          "#fb9f3a"
                        ],
                        [
                          0.8888888888888888,
                          "#fdca26"
                        ],
                        [
                          1,
                          "#f0f921"
                        ]
                      ]
                    },
                    "colorway": [
                      "#636efa",
                      "#EF553B",
                      "#00cc96",
                      "#ab63fa",
                      "#FFA15A",
                      "#19d3f3",
                      "#FF6692",
                      "#B6E880",
                      "#FF97FF",
                      "#FECB52"
                    ],
                    "font": {
                      "color": "#f2f5fa"
                    },
                    "geo": {
                      "bgcolor": "rgb(17,17,17)",
                      "lakecolor": "rgb(17,17,17)",
                      "landcolor": "rgb(17,17,17)",
                      "showlakes": true,
                      "showland": true,
                      "subunitcolor": "#506784"
                    },
                    "hoverlabel": {
                      "align": "left"
                    },
                    "hovermode": "closest",
                    "mapbox": {
                      "style": "dark"
                    },
                    "paper_bgcolor": "rgb(17,17,17)",
                    "plot_bgcolor": "rgb(17,17,17)",
                    "polar": {
                      "angularaxis": {
                        "gridcolor": "#506784",
                        "linecolor": "#506784",
                        "ticks": ""
                      },
                      "bgcolor": "rgb(17,17,17)",
                      "radialaxis": {
                        "gridcolor": "#506784",
                        "linecolor": "#506784",
                        "ticks": ""
                      }
                    },
                    "scene": {
                      "xaxis": {
                        "backgroundcolor": "rgb(17,17,17)",
                        "gridcolor": "#506784",
                        "gridwidth": 2,
                        "linecolor": "#506784",
                        "showbackground": true,
                        "ticks": "",
                        "zerolinecolor": "#C8D4E3"
                      },
                      "yaxis": {
                        "backgroundcolor": "rgb(17,17,17)",
                        "gridcolor": "#506784",
                        "gridwidth": 2,
                        "linecolor": "#506784",
                        "showbackground": true,
                        "ticks": "",
                        "zerolinecolor": "#C8D4E3"
                      },
                      "zaxis": {
                        "backgroundcolor": "rgb(17,17,17)",
                        "gridcolor": "#506784",
                        "gridwidth": 2,
                        "linecolor": "#506784",
                        "showbackground": true,
                        "ticks": "",
                        "zerolinecolor": "#C8D4E3"
                      }
                    },
                    "shapedefaults": {
                      "line": {
                        "color": "#f2f5fa"
                      }
                    },
                    "sliderdefaults": {
                      "bgcolor": "#C8D4E3",
                      "bordercolor": "rgb(17,17,17)",
                      "borderwidth": 1,
                      "tickwidth": 0
                    },
                    "ternary": {
                      "aaxis": {
                        "gridcolor": "#506784",
                        "linecolor": "#506784",
                        "ticks": ""
                      },
                      "baxis": {
                        "gridcolor": "#506784",
                        "linecolor": "#506784",
                        "ticks": ""
                      },
                      "bgcolor": "rgb(17,17,17)",
                      "caxis": {
                        "gridcolor": "#506784",
                        "linecolor": "#506784",
                        "ticks": ""
                      }
                    },
                    "title": {
                      "x": 0.05
                    },
                    "updatemenudefaults": {
                      "bgcolor": "#506784",
                      "borderwidth": 0
                    },
                    "xaxis": {
                      "automargin": true,
                      "gridcolor": "#283442",
                      "linecolor": "#506784",
                      "ticks": "",
                      "title": {
                        "standoff": 15
                      },
                      "zerolinecolor": "#283442",
                      "zerolinewidth": 2
                    },
                    "yaxis": {
                      "automargin": true,
                      "gridcolor": "#283442",
                      "linecolor": "#506784",
                      "ticks": "",
                      "title": {
                        "standoff": 15
                      },
                      "zerolinecolor": "#283442",
                      "zerolinewidth": 2
                    }
                  }
                },
                "xaxis": {
                  "anchor": "y",
                  "domain": [
                    0,
                    1
                  ],
                  "title": {
                    "text": "POS"
                  }
                },
                "yaxis": {
                  "anchor": "x",
                  "domain": [
                    0,
                    1
                  ],
                  "title": {
                    "text": "count"
                  }
                },
                "legend": {
                  "tracegroupgap": 0
                },
                "title": {
                  "text": "Quantidade de Jogadores por posição"
                },
                "barmode": "relative"
              },
              "config": {
                "plotlyServerURL": "https://plot.ly"
              }
            },
            "text/html": [
              "<div>                            <div id=\"4304ec33-dab5-42cb-b704-4575a034663c\" class=\"plotly-graph-div\" style=\"height:525px; width:100%;\"></div>            <script type=\"text/javascript\">                require([\"plotly\"], function(Plotly) {                    window.PLOTLYENV=window.PLOTLYENV || {};                                    if (document.getElementById(\"4304ec33-dab5-42cb-b704-4575a034663c\")) {                    Plotly.newPlot(                        \"4304ec33-dab5-42cb-b704-4575a034663c\",                        [{\"alignmentgroup\":\"True\",\"bingroup\":\"x\",\"hovertemplate\":\"POS=%{x}\\u003cbr\\u003ecount=%{y}\\u003cextra\\u003e\\u003c\\u002fextra\\u003e\",\"legendgroup\":\"\",\"marker\":{\"color\":\"rgb(229, 134, 6)\",\"pattern\":{\"shape\":\"\"}},\"name\":\"\",\"offsetgroup\":\"\",\"orientation\":\"v\",\"showlegend\":false,\"x\":[\"SF\",\"C\",\"PG\",\"PG\",\"PF\",\"SG\",\"PF\",\"SG\",\"PG\",\"SG\",\"PG\",\"PG\",\"SF\",\"SG\",\"PF\",\"PF\",\"C\",\"SG\",\"SG\",\"SF\",\"PG\",\"PG\",\"PG\",\"PG\",\"SF\",\"SG\",\"C\",\"SG\",\"PF\",\"SG\",\"C\",\"PG\",\"SF\",\"SG\",\"SF\",\"PF\",\"C\",\"PF\",\"SG\",\"SF\",\"PG\",\"PF\",\"SF\",\"PG\",\"SG\",\"SG\",\"F\",\"SG\",\"SG\",\"SG\",\"PG\",\"SF\",\"PG\",\"PF\",\"SF\",\"PG\",\"PG\",\"SG\",\"SG\",\"C\",\"SF\",\"SF\",\"PG\",\"SG\",\"SG\",\"PG\",\"C\",\"SF\",\"PF\",\"SG\",\"PG\",\"PG\",\"SG\",\"SG\",\"PF\",\"SG\",\"SG\",\"SF\",\"C\",\"F\",\"C\",\"SF\",\"PF\",\"C\",\"PF\",\"SF\",\"SF\",\"F\",\"SF\",\"SG\",\"F\",\"SF\",\"SG\",\"G\",\"SF\",\"PG\",\"G\",\"PF\",\"PG\",\"F\",\"SF\",\"SG\",\"C\",\"C\",\"PF\",\"C\",\"PF\",\"SF\",\"SG\",\"SG\",\"C\",\"PG\",\"C\",\"C\",\"SG\",\"PF\",\"PG\",\"PG\",\"SG\",\"PF\",\"PG\",\"SG\",\"PG\",\"SF\",\"PG\",\"C\",\"SG\",\"PG\",\"PF\",\"SG\",\"PG\",\"PG\",\"C\",\"SG\",\"C\",\"F\",\"SG\",\"PF\",\"PF\",\"SG\",\"SG\",\"SF\",\"SF\",\"PF\",\"SF\",\"PG\",\"SG\",\"PF\",\"PG\",\"PF\",\"C\",\"SG\",\"SG\",\"PG\",\"SF\",\"SG\",\"SF\",\"PF\",\"C\",\"PG\",\"SG\",\"SG\",\"PG\",\"SF\",\"C\",\"SG\",\"G\",\"PF\",\"SF\",\"PF\",\"PG\",\"SF\",\"SG\",\"G\",\"SG\",\"PG\",\"SF\",\"PG\",\"SF\",\"SF\",\"SF\",\"PF\",\"PG\",\"PF\",\"F\",\"SF\",\"SG\",\"PG\",\"C\",\"SF\",\"PF\",\"PF\",\"C\",\"PG\",\"F\",\"C\",\"SG\",\"SG\",\"C\",\"C\",\"SF\",\"C\",\"F\",\"C\",\"SF\",\"PF\",\"SF\",\"SG\",\"PF\",\"PF\",\"PG\",\"SG\",\"SG\",\"SF\",\"SF\",\"PG\",\"C\",\"SF\",\"SG\",\"SG\",\"G\",\"PF\",\"PG\",\"SF\",\"PF\",\"PF\",\"C\",\"PF\",\"SF\",\"PF\",\"G\",\"PG\",\"PF\",\"SF\",\"SG\",\"PF\",\"PG\",\"G\",\"F\",\"SG\",\"PF\",\"C\",\"SF\",\"PG\",\"C\",\"SG\",\"PF\",\"PF\",\"C\",\"SG\",\"F\",\"PG\",\"SF\",\"G\",\"F\",\"SF\",\"PG\",\"G\",\"C\",\"C\",\"SF\",\"SG\",\"SF\",\"SF\",\"C\",\"PG\",\"C\",\"G\",\"PG\",\"SG\",\"SG\",\"F\",\"SG\",\"F\",\"PG\",\"SG\",\"SG\",\"SG\",\"PF\",\"C\",\"G\",\"SF\",\"PF\",\"SG\",\"F\",\"F\",\"C\",\"SF\",\"PF\",\"C\",\"SF\",\"SG\",\"SF\",\"SG\",\"SG\",\"PG\",\"SG\",\"SF\",\"PG\",\"SG\",\"SF\",\"PF\",\"PG\",\"G\",\"F\",\"PF\",\"SF\",\"SF\",\"C\",\"F\",\"PF\",\"F\",\"PG\",\"SF\",\"F\",\"F\",\"PF\",\"C\",\"PF\",\"F\",\"C\",\"C\",\"SG\",\"SG\",\"F\",\"G\",\"G\",\"PG\",\"PG\",\"PG\",\"PF\",\"PG\",\"F\",\"C\",\"PG\",\"C\",\"G\",\"SG\",\"PF\",\"PF\",\"PG\",\"SG\",\"PF\",\"F\",\"F\",\"F\",\"SF\",\"PF\",\"SF\",\"C\",\"C\",\"C\",\"PF\",\"PF\",\"G\",\"F\",\"SG\",\"SG\",\"C\",\"G\",\"G\",\"C\",\"C\",\"SG\",\"C\",\"SF\",\"SG\",\"F\",\"PG\",\"PF\",\"F\",\"C\",\"SG\",\"SF\",\"F\",\"G\",\"PG\",\"PF\",\"PG\",\"SF\",\"SF\",\"C\",\"G\",\"PF\",\"PG\",\"G\",\"G\",\"SG\",\"PG\",\"C\",\"G\",\"SG\",\"F\",\"PG\",\"PF\",\"F\",\"PF\",\"G\",\"C\",\"PF\",\"PF\",\"F\",\"F\",\"C\",\"F\",\"C\",\"PG\",\"PG\",\"C\",\"F\",\"PG\",\"F\",\"C\",\"SG\",\"SF\",\"C\",\"F\",\"G\",\"SG\",\"SG\",\"SG\",\"PF\",\"F\",\"G\",\"F\",\"G\",\"F\",\"G\",\"F\",\"PG\",\"F\",\"F\",\"F\",\"PG\",\"F\",\"F\",\"G\",\"G\",\"PF\",\"G\",\"G\",\"PF\",\"C\",\"SF\",\"SF\",\"G\",\"C\",\"PG\",\"F\",\"SF\",\"G\",\"F\",\"G\",\"G\",\"SF\",\"G\",\"C\",\"C\",\"C\",\"G\",\"G\",\"PG\",\"C\",\"G\",\"SG\",\"C\",\"G\",\"SF\",\"C\",\"F\",\"G\",\"PF\",\"G\",\"SG\",\"PF\",\"G\",\"SG\",\"PF\",\"SG\",\"G\",\"G\",\"C\",\"G\",\"PF\",\"G\",\"F\",\"SG\",\"G\",\"G\",\"SF\",\"SF\",\"F\",\"SG\",\"C\",\"F\",\"F\",\"G\",\"F\",\"F\",\"F\",\"F\",\"G\",\"G\",\"G\",\"C\",\"SF\",\"G\",\"G\",\"F\",\"PF\",\"SF\",\"SG\",\"G\",\"G\",\"F\",\"C\",\"PG\",\"F\",\"C\",\"C\",\"C\",\"SG\",\"G\",\"F\",\"G\",\"G\",\"G\",\"G\",\"G\",\"F\",\"G\",\"F\",\"F\",\"G\",\"SG\",\"SG\",\"SG\",\"SG\",\"SG\"],\"xaxis\":\"x\",\"yaxis\":\"y\",\"type\":\"histogram\"}],                        {\"template\":{\"data\":{\"barpolar\":[{\"marker\":{\"line\":{\"color\":\"rgb(17,17,17)\",\"width\":0.5},\"pattern\":{\"fillmode\":\"overlay\",\"size\":10,\"solidity\":0.2}},\"type\":\"barpolar\"}],\"bar\":[{\"error_x\":{\"color\":\"#f2f5fa\"},\"error_y\":{\"color\":\"#f2f5fa\"},\"marker\":{\"line\":{\"color\":\"rgb(17,17,17)\",\"width\":0.5},\"pattern\":{\"fillmode\":\"overlay\",\"size\":10,\"solidity\":0.2}},\"type\":\"bar\"}],\"carpet\":[{\"aaxis\":{\"endlinecolor\":\"#A2B1C6\",\"gridcolor\":\"#506784\",\"linecolor\":\"#506784\",\"minorgridcolor\":\"#506784\",\"startlinecolor\":\"#A2B1C6\"},\"baxis\":{\"endlinecolor\":\"#A2B1C6\",\"gridcolor\":\"#506784\",\"linecolor\":\"#506784\",\"minorgridcolor\":\"#506784\",\"startlinecolor\":\"#A2B1C6\"},\"type\":\"carpet\"}],\"choropleth\":[{\"colorbar\":{\"outlinewidth\":0,\"ticks\":\"\"},\"type\":\"choropleth\"}],\"contourcarpet\":[{\"colorbar\":{\"outlinewidth\":0,\"ticks\":\"\"},\"type\":\"contourcarpet\"}],\"contour\":[{\"colorbar\":{\"outlinewidth\":0,\"ticks\":\"\"},\"colorscale\":[[0.0,\"#0d0887\"],[0.1111111111111111,\"#46039f\"],[0.2222222222222222,\"#7201a8\"],[0.3333333333333333,\"#9c179e\"],[0.4444444444444444,\"#bd3786\"],[0.5555555555555556,\"#d8576b\"],[0.6666666666666666,\"#ed7953\"],[0.7777777777777778,\"#fb9f3a\"],[0.8888888888888888,\"#fdca26\"],[1.0,\"#f0f921\"]],\"type\":\"contour\"}],\"heatmapgl\":[{\"colorbar\":{\"outlinewidth\":0,\"ticks\":\"\"},\"colorscale\":[[0.0,\"#0d0887\"],[0.1111111111111111,\"#46039f\"],[0.2222222222222222,\"#7201a8\"],[0.3333333333333333,\"#9c179e\"],[0.4444444444444444,\"#bd3786\"],[0.5555555555555556,\"#d8576b\"],[0.6666666666666666,\"#ed7953\"],[0.7777777777777778,\"#fb9f3a\"],[0.8888888888888888,\"#fdca26\"],[1.0,\"#f0f921\"]],\"type\":\"heatmapgl\"}],\"heatmap\":[{\"colorbar\":{\"outlinewidth\":0,\"ticks\":\"\"},\"colorscale\":[[0.0,\"#0d0887\"],[0.1111111111111111,\"#46039f\"],[0.2222222222222222,\"#7201a8\"],[0.3333333333333333,\"#9c179e\"],[0.4444444444444444,\"#bd3786\"],[0.5555555555555556,\"#d8576b\"],[0.6666666666666666,\"#ed7953\"],[0.7777777777777778,\"#fb9f3a\"],[0.8888888888888888,\"#fdca26\"],[1.0,\"#f0f921\"]],\"type\":\"heatmap\"}],\"histogram2dcontour\":[{\"colorbar\":{\"outlinewidth\":0,\"ticks\":\"\"},\"colorscale\":[[0.0,\"#0d0887\"],[0.1111111111111111,\"#46039f\"],[0.2222222222222222,\"#7201a8\"],[0.3333333333333333,\"#9c179e\"],[0.4444444444444444,\"#bd3786\"],[0.5555555555555556,\"#d8576b\"],[0.6666666666666666,\"#ed7953\"],[0.7777777777777778,\"#fb9f3a\"],[0.8888888888888888,\"#fdca26\"],[1.0,\"#f0f921\"]],\"type\":\"histogram2dcontour\"}],\"histogram2d\":[{\"colorbar\":{\"outlinewidth\":0,\"ticks\":\"\"},\"colorscale\":[[0.0,\"#0d0887\"],[0.1111111111111111,\"#46039f\"],[0.2222222222222222,\"#7201a8\"],[0.3333333333333333,\"#9c179e\"],[0.4444444444444444,\"#bd3786\"],[0.5555555555555556,\"#d8576b\"],[0.6666666666666666,\"#ed7953\"],[0.7777777777777778,\"#fb9f3a\"],[0.8888888888888888,\"#fdca26\"],[1.0,\"#f0f921\"]],\"type\":\"histogram2d\"}],\"histogram\":[{\"marker\":{\"pattern\":{\"fillmode\":\"overlay\",\"size\":10,\"solidity\":0.2}},\"type\":\"histogram\"}],\"mesh3d\":[{\"colorbar\":{\"outlinewidth\":0,\"ticks\":\"\"},\"type\":\"mesh3d\"}],\"parcoords\":[{\"line\":{\"colorbar\":{\"outlinewidth\":0,\"ticks\":\"\"}},\"type\":\"parcoords\"}],\"pie\":[{\"automargin\":true,\"type\":\"pie\"}],\"scatter3d\":[{\"line\":{\"colorbar\":{\"outlinewidth\":0,\"ticks\":\"\"}},\"marker\":{\"colorbar\":{\"outlinewidth\":0,\"ticks\":\"\"}},\"type\":\"scatter3d\"}],\"scattercarpet\":[{\"marker\":{\"colorbar\":{\"outlinewidth\":0,\"ticks\":\"\"}},\"type\":\"scattercarpet\"}],\"scattergeo\":[{\"marker\":{\"colorbar\":{\"outlinewidth\":0,\"ticks\":\"\"}},\"type\":\"scattergeo\"}],\"scattergl\":[{\"marker\":{\"line\":{\"color\":\"#283442\"}},\"type\":\"scattergl\"}],\"scattermapbox\":[{\"marker\":{\"colorbar\":{\"outlinewidth\":0,\"ticks\":\"\"}},\"type\":\"scattermapbox\"}],\"scatterpolargl\":[{\"marker\":{\"colorbar\":{\"outlinewidth\":0,\"ticks\":\"\"}},\"type\":\"scatterpolargl\"}],\"scatterpolar\":[{\"marker\":{\"colorbar\":{\"outlinewidth\":0,\"ticks\":\"\"}},\"type\":\"scatterpolar\"}],\"scatter\":[{\"marker\":{\"line\":{\"color\":\"#283442\"}},\"type\":\"scatter\"}],\"scatterternary\":[{\"marker\":{\"colorbar\":{\"outlinewidth\":0,\"ticks\":\"\"}},\"type\":\"scatterternary\"}],\"surface\":[{\"colorbar\":{\"outlinewidth\":0,\"ticks\":\"\"},\"colorscale\":[[0.0,\"#0d0887\"],[0.1111111111111111,\"#46039f\"],[0.2222222222222222,\"#7201a8\"],[0.3333333333333333,\"#9c179e\"],[0.4444444444444444,\"#bd3786\"],[0.5555555555555556,\"#d8576b\"],[0.6666666666666666,\"#ed7953\"],[0.7777777777777778,\"#fb9f3a\"],[0.8888888888888888,\"#fdca26\"],[1.0,\"#f0f921\"]],\"type\":\"surface\"}],\"table\":[{\"cells\":{\"fill\":{\"color\":\"#506784\"},\"line\":{\"color\":\"rgb(17,17,17)\"}},\"header\":{\"fill\":{\"color\":\"#2a3f5f\"},\"line\":{\"color\":\"rgb(17,17,17)\"}},\"type\":\"table\"}]},\"layout\":{\"annotationdefaults\":{\"arrowcolor\":\"#f2f5fa\",\"arrowhead\":0,\"arrowwidth\":1},\"autotypenumbers\":\"strict\",\"coloraxis\":{\"colorbar\":{\"outlinewidth\":0,\"ticks\":\"\"}},\"colorscale\":{\"diverging\":[[0,\"#8e0152\"],[0.1,\"#c51b7d\"],[0.2,\"#de77ae\"],[0.3,\"#f1b6da\"],[0.4,\"#fde0ef\"],[0.5,\"#f7f7f7\"],[0.6,\"#e6f5d0\"],[0.7,\"#b8e186\"],[0.8,\"#7fbc41\"],[0.9,\"#4d9221\"],[1,\"#276419\"]],\"sequential\":[[0.0,\"#0d0887\"],[0.1111111111111111,\"#46039f\"],[0.2222222222222222,\"#7201a8\"],[0.3333333333333333,\"#9c179e\"],[0.4444444444444444,\"#bd3786\"],[0.5555555555555556,\"#d8576b\"],[0.6666666666666666,\"#ed7953\"],[0.7777777777777778,\"#fb9f3a\"],[0.8888888888888888,\"#fdca26\"],[1.0,\"#f0f921\"]],\"sequentialminus\":[[0.0,\"#0d0887\"],[0.1111111111111111,\"#46039f\"],[0.2222222222222222,\"#7201a8\"],[0.3333333333333333,\"#9c179e\"],[0.4444444444444444,\"#bd3786\"],[0.5555555555555556,\"#d8576b\"],[0.6666666666666666,\"#ed7953\"],[0.7777777777777778,\"#fb9f3a\"],[0.8888888888888888,\"#fdca26\"],[1.0,\"#f0f921\"]]},\"colorway\":[\"#636efa\",\"#EF553B\",\"#00cc96\",\"#ab63fa\",\"#FFA15A\",\"#19d3f3\",\"#FF6692\",\"#B6E880\",\"#FF97FF\",\"#FECB52\"],\"font\":{\"color\":\"#f2f5fa\"},\"geo\":{\"bgcolor\":\"rgb(17,17,17)\",\"lakecolor\":\"rgb(17,17,17)\",\"landcolor\":\"rgb(17,17,17)\",\"showlakes\":true,\"showland\":true,\"subunitcolor\":\"#506784\"},\"hoverlabel\":{\"align\":\"left\"},\"hovermode\":\"closest\",\"mapbox\":{\"style\":\"dark\"},\"paper_bgcolor\":\"rgb(17,17,17)\",\"plot_bgcolor\":\"rgb(17,17,17)\",\"polar\":{\"angularaxis\":{\"gridcolor\":\"#506784\",\"linecolor\":\"#506784\",\"ticks\":\"\"},\"bgcolor\":\"rgb(17,17,17)\",\"radialaxis\":{\"gridcolor\":\"#506784\",\"linecolor\":\"#506784\",\"ticks\":\"\"}},\"scene\":{\"xaxis\":{\"backgroundcolor\":\"rgb(17,17,17)\",\"gridcolor\":\"#506784\",\"gridwidth\":2,\"linecolor\":\"#506784\",\"showbackground\":true,\"ticks\":\"\",\"zerolinecolor\":\"#C8D4E3\"},\"yaxis\":{\"backgroundcolor\":\"rgb(17,17,17)\",\"gridcolor\":\"#506784\",\"gridwidth\":2,\"linecolor\":\"#506784\",\"showbackground\":true,\"ticks\":\"\",\"zerolinecolor\":\"#C8D4E3\"},\"zaxis\":{\"backgroundcolor\":\"rgb(17,17,17)\",\"gridcolor\":\"#506784\",\"gridwidth\":2,\"linecolor\":\"#506784\",\"showbackground\":true,\"ticks\":\"\",\"zerolinecolor\":\"#C8D4E3\"}},\"shapedefaults\":{\"line\":{\"color\":\"#f2f5fa\"}},\"sliderdefaults\":{\"bgcolor\":\"#C8D4E3\",\"bordercolor\":\"rgb(17,17,17)\",\"borderwidth\":1,\"tickwidth\":0},\"ternary\":{\"aaxis\":{\"gridcolor\":\"#506784\",\"linecolor\":\"#506784\",\"ticks\":\"\"},\"baxis\":{\"gridcolor\":\"#506784\",\"linecolor\":\"#506784\",\"ticks\":\"\"},\"bgcolor\":\"rgb(17,17,17)\",\"caxis\":{\"gridcolor\":\"#506784\",\"linecolor\":\"#506784\",\"ticks\":\"\"}},\"title\":{\"x\":0.05},\"updatemenudefaults\":{\"bgcolor\":\"#506784\",\"borderwidth\":0},\"xaxis\":{\"automargin\":true,\"gridcolor\":\"#283442\",\"linecolor\":\"#506784\",\"ticks\":\"\",\"title\":{\"standoff\":15},\"zerolinecolor\":\"#283442\",\"zerolinewidth\":2},\"yaxis\":{\"automargin\":true,\"gridcolor\":\"#283442\",\"linecolor\":\"#506784\",\"ticks\":\"\",\"title\":{\"standoff\":15},\"zerolinecolor\":\"#283442\",\"zerolinewidth\":2}}},\"xaxis\":{\"anchor\":\"y\",\"domain\":[0.0,1.0],\"title\":{\"text\":\"POS\"}},\"yaxis\":{\"anchor\":\"x\",\"domain\":[0.0,1.0],\"title\":{\"text\":\"count\"}},\"legend\":{\"tracegroupgap\":0},\"title\":{\"text\":\"Quantidade de Jogadores por posi\\u00e7\\u00e3o\"},\"barmode\":\"relative\"},                        {\"responsive\": true}                    ).then(function(){\n",
              "                            \n",
              "var gd = document.getElementById('4304ec33-dab5-42cb-b704-4575a034663c');\n",
              "var x = new MutationObserver(function (mutations, observer) {{\n",
              "        var display = window.getComputedStyle(gd).display;\n",
              "        if (!display || display === 'none') {{\n",
              "            console.log([gd, 'removed!']);\n",
              "            Plotly.purge(gd);\n",
              "            observer.disconnect();\n",
              "        }}\n",
              "}});\n",
              "\n",
              "// Listen for the removal of the full notebook cells\n",
              "var notebookContainer = gd.closest('#notebook-container');\n",
              "if (notebookContainer) {{\n",
              "    x.observe(notebookContainer, {childList: true});\n",
              "}}\n",
              "\n",
              "// Listen for the clearing of the current output cell\n",
              "var outputEl = gd.closest('.output');\n",
              "if (outputEl) {{\n",
              "    x.observe(outputEl, {childList: true});\n",
              "}}\n",
              "\n",
              "                        })                };                });            </script>        </div>"
            ]
          },
          "metadata": {}
        }
      ]
    }
  ]
}