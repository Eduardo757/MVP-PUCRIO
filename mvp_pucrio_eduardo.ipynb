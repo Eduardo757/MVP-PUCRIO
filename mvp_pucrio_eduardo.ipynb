{
  "nbformat": 4,
  "nbformat_minor": 0,
  "metadata": {
    "colab": {
      "provenance": [],
      "toc_visible": true,
      "authorship_tag": "ABX9TyMk/Wb5s6mxosCpi2N7vW6J",
      "include_colab_link": true
    },
    "kernelspec": {
      "name": "python3",
      "display_name": "Python 3"
    },
    "language_info": {
      "name": "python"
    }
  },
  "cells": [
    {
      "cell_type": "markdown",
      "metadata": {
        "id": "view-in-github",
        "colab_type": "text"
      },
      "source": [
        "<a href=\"https://colab.research.google.com/github/Eduardo757/MVP-PUCRIO/blob/main/mvp_pucrio_eduardo.ipynb\" target=\"_parent\"><img src=\"https://colab.research.google.com/assets/colab-badge.svg\" alt=\"Open In Colab\"/></a>"
      ]
    },
    {
      "cell_type": "markdown",
      "source": [
        "# MVP de Analise de Dados e Boas Praticas\n",
        "\n",
        "Eduardo Vasconcelos Sampaio\n"
      ],
      "metadata": {
        "id": "ZEFroqNJsexS"
      }
    },
    {
      "cell_type": "markdown",
      "source": [
        "### 1. Definição do Problema\n",
        "\n",
        "\n",
        " O dataset usado nesse projeto será ...\n"
      ],
      "metadata": {
        "id": "X9aFb5EPsxKj"
      }
    }
  ]
}